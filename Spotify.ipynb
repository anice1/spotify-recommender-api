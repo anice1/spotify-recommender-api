{
 "cells": [
  {
   "cell_type": "code",
   "execution_count": 36,
   "source": [
    "import requests\n",
    "import pandas as pd\n",
    "import numpy as np\n",
    "import matplotlib.pyplot as plt\n",
    "import json\n",
    "import base64"
   ],
   "outputs": [],
   "metadata": {}
  },
  {
   "cell_type": "markdown",
   "source": [
    "## Steps to get started\n",
    "1. Log on to https://developer.spotify.com/\n",
    "2. Create Account\n",
    "3. Visit the spotify [Api Documentation](https://developer.spotify.com/documentation/general/guides/authorization/client-credentials/) "
   ],
   "metadata": {}
  },
  {
   "cell_type": "code",
   "execution_count": 39,
   "source": [
    "CLIENT_ID = '184c0124d3f2446c9417600022ee3ca2'\n",
    "CLIENT_SECRET = 'c264e071f9f64eb18b5b1165cc49373d'\n",
    "TOKEN_URL = 'https://accounts.spotify.com/api/token'\n",
    "ENCODED_CLIENT_ID = base64.b64encode(f'{CLIENT_ID}:{CLIENT_SECRET}'.encode()).decode()"
   ],
   "outputs": [],
   "metadata": {}
  },
  {
   "cell_type": "code",
   "execution_count": 40,
   "source": [
    "\n",
    "request_data = {\n",
    "    'grant_type': 'client_credentials'\n",
    "    }\n",
    "    \n",
    "request_headers = {\n",
    "    'Authorization': 'Basic ' + ENCODED_CLIENT_ID,\n",
    "    'Content-Type': 'application/x-www-form-urlencoded'\n",
    "    }\n",
    "response = requests.post(TOKEN_URL, data=request_data, headers=request_headers)\n",
    "response.json()"
   ],
   "outputs": [
    {
     "output_type": "execute_result",
     "data": {
      "text/plain": [
       "{'access_token': 'BQCdv7yG_VrrZQtiITsEySy3JorELGe-wZGtRnGYgG-MFlNOeQZ-_8uMP-1S58eu69-EGQ9KlnRKuBr0qQo',\n",
       " 'token_type': 'Bearer',\n",
       " 'expires_in': 3600}"
      ]
     },
     "metadata": {},
     "execution_count": 40
    }
   ],
   "metadata": {}
  },
  {
   "cell_type": "code",
   "execution_count": null,
   "source": [],
   "outputs": [],
   "metadata": {}
  }
 ],
 "metadata": {
  "kernelspec": {
   "name": "python3",
   "display_name": "Python 3.10.0 64-bit ('.spotify': venv)"
  },
  "language_info": {
   "codemirror_mode": {
    "name": "ipython",
    "version": 3
   },
   "file_extension": ".py",
   "mimetype": "text/x-python",
   "name": "python",
   "nbconvert_exporter": "python",
   "pygments_lexer": "ipython3",
   "version": "3.10.0"
  },
  "interpreter": {
   "hash": "ac437edb024cfe520b38171e94bd99c2b8241ca6a3d708d8e38ba9f43b8be32d"
  }
 },
 "nbformat": 4,
 "nbformat_minor": 5
}