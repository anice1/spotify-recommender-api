{
 "cells": [
  {
   "cell_type": "code",
   "execution_count": 15,
   "source": [
    "import requests\n",
    "import pandas as pd\n",
    "import numpy as np\n",
    "import matplotlib.pyplot as plt\n",
    "import json\n",
    "import base64"
   ],
   "outputs": [],
   "metadata": {}
  },
  {
   "cell_type": "markdown",
   "source": [
    "## Steps to get started\n",
    "1. Log on to https://developer.spotify.com/\n",
    "2. Create Account\n",
    "3. "
   ],
   "metadata": {}
  },
  {
   "cell_type": "code",
   "execution_count": 16,
   "source": [
    "CLIENT_ID = 'spotify_client_id'\n",
    "CLIENT_SECRET = 'spotify_client_secret'\n",
    "TOKEN_URL = 'https://accounts.spotify.com/api/token'"
   ],
   "outputs": [],
   "metadata": {}
  },
  {
   "cell_type": "code",
   "execution_count": 29,
   "source": [
    "encode_client_id = base64.b64encode(f'{CLIENT_ID}:{CLIENT_SECRET}'.encode()) #Basic <base64 encoded client_id:client_secret>\n",
    "\n",
    "request_data = {\n",
    "    'grant_type': 'client_credentials'\n",
    "    }\n",
    "    \n",
    "request_headers = {\n",
    "    'Authorization': 'Basic ' + encode_client_id.decode(),\n",
    "    'Content-Type': 'application/x-www-form-urlencoded'\n",
    "    }\n",
    "response = requests.post(TOKEN_URL, data=request_data, headers=request_headers)\n",
    "response.json()"
   ],
   "outputs": [
    {
     "output_type": "execute_result",
     "data": {
      "text/plain": [
       "{'access_token': 'BQBK-XlLYI3Opnd5wyQ2yeDbALFxJ5qKoARC8yAF0eXogH1y3V2c8SOlZpvJTPlKqrOhIktmhRwtzu8zwH0',\n",
       " 'token_type': 'Bearer',\n",
       " 'expires_in': 3600}"
      ]
     },
     "metadata": {},
     "execution_count": 29
    }
   ],
   "metadata": {}
  }
 ],
 "metadata": {
  "kernelspec": {
   "name": "python3",
   "display_name": "Python 3.10.0 64-bit ('.spotify': venv)"
  },
  "language_info": {
   "codemirror_mode": {
    "name": "ipython",
    "version": 3
   },
   "file_extension": ".py",
   "mimetype": "text/x-python",
   "name": "python",
   "nbconvert_exporter": "python",
   "pygments_lexer": "ipython3",
   "version": "3.10.0"
  },
  "interpreter": {
   "hash": "ac437edb024cfe520b38171e94bd99c2b8241ca6a3d708d8e38ba9f43b8be32d"
  }
 },
 "nbformat": 4,
 "nbformat_minor": 5
}